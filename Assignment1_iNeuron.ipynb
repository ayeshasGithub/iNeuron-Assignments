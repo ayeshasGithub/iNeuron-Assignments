{
  "nbformat": 4,
  "nbformat_minor": 0,
  "metadata": {
    "colab": {
      "name": "Assignment1_iNeuron.ipynb",
      "provenance": [],
      "authorship_tag": "ABX9TyNhguN9eP0cDwsWkieCh/9N",
      "include_colab_link": true
    },
    "kernelspec": {
      "name": "python3",
      "display_name": "Python 3"
    }
  },
  "cells": [
    {
      "cell_type": "markdown",
      "metadata": {
        "id": "view-in-github",
        "colab_type": "text"
      },
      "source": [
        "<a href=\"https://colab.research.google.com/github/ayeshasGithub/iNeuron-Assignments/blob/master/Assignment1_iNeuron.ipynb\" target=\"_parent\"><img src=\"https://colab.research.google.com/assets/colab-badge.svg\" alt=\"Open In Colab\"/></a>"
      ]
    },
    {
      "cell_type": "markdown",
      "metadata": {
        "id": "96EK6XclUbqu",
        "colab_type": "text"
      },
      "source": [
        "### Task 1: Problem 1: Install Jupyter notebook and run the first program and share the screenshot of the output."
      ]
    },
    {
      "cell_type": "markdown",
      "metadata": {
        "id": "f0hn6bDRT-6X",
        "colab_type": "text"
      },
      "source": [
        "### Task 1: Problem 2. Write a program which will find all such numbers which are \n",
        "* divisible by 7 but are not a multiple of 5, \n",
        "* between 2000 and 3200 (both included). \n",
        "\n",
        "The numbers obtained should be printed in a comma-separated sequence on a single line."
      ]
    },
    {
      "cell_type": "code",
      "metadata": {
        "id": "6c08k39nUNf_",
        "colab_type": "code",
        "outputId": "0dbeed46-08be-4cfd-8479-fed8a010e027",
        "colab": {
          "base_uri": "https://localhost:8080/",
          "height": 54
        }
      },
      "source": [
        "def divBySeven(range1,range2):\n",
        "\n",
        "  \n",
        "  for num in range(range1,range2+1):\n",
        "    if num%7==0 and num%5!=0:\n",
        "      print(num,end=\",\")\n",
        "\n",
        "divBySeven(2000,3200)\n",
        "      \n",
        "\n"
      ],
      "execution_count": 0,
      "outputs": [
        {
          "output_type": "stream",
          "text": [
            "2002,2009,2016,2023,2037,2044,2051,2058,2072,2079,2086,2093,2107,2114,2121,2128,2142,2149,2156,2163,2177,2184,2191,2198,2212,2219,2226,2233,2247,2254,2261,2268,2282,2289,2296,2303,2317,2324,2331,2338,2352,2359,2366,2373,2387,2394,2401,2408,2422,2429,2436,2443,2457,2464,2471,2478,2492,2499,2506,2513,2527,2534,2541,2548,2562,2569,2576,2583,2597,2604,2611,2618,2632,2639,2646,2653,2667,2674,2681,2688,2702,2709,2716,2723,2737,2744,2751,2758,2772,2779,2786,2793,2807,2814,2821,2828,2842,2849,2856,2863,2877,2884,2891,2898,2912,2919,2926,2933,2947,2954,2961,2968,2982,2989,2996,3003,3017,3024,3031,3038,3052,3059,3066,3073,3087,3094,3101,3108,3122,3129,3136,3143,3157,3164,3171,3178,3192,3199,"
          ],
          "name": "stdout"
        }
      ]
    },
    {
      "cell_type": "markdown",
      "metadata": {
        "id": "m2II7iXAjPqb",
        "colab_type": "text"
      },
      "source": [
        "### Task 1: Problem 3: Write a Python program to \n",
        "* accept the user's first and last name \n",
        "* and then getting them printed in the the reverse order with a space between first name and last name."
      ]
    },
    {
      "cell_type": "code",
      "metadata": {
        "id": "zM0k-exdnGOZ",
        "colab_type": "code",
        "outputId": "0258d71c-f343-4811-ac56-7423ab24a082",
        "colab": {
          "base_uri": "https://localhost:8080/",
          "height": 85
        }
      },
      "source": [
        "fname    = input(\"Enter First Name\")\n",
        "lname  = input(\"Enter Last Name\")\n",
        "\n",
        "print(\"Printing Full Name\")\n",
        "print (fname[::-1], lname[::-1])\n"
      ],
      "execution_count": 0,
      "outputs": [
        {
          "output_type": "stream",
          "text": [
            "Enter First NameAyesha\n",
            "Enter Last NameSiddiqua\n",
            "Printing Full Name\n",
            "ahseyA auqiddiS\n"
          ],
          "name": "stdout"
        }
      ]
    },
    {
      "cell_type": "markdown",
      "metadata": {
        "id": "IJ2XbQAXVrgM",
        "colab_type": "text"
      },
      "source": [
        "### Task 1: Problem 4: Write a Python program to find the volume of a sphere with diameter 12 cm.\n",
        "Formula: V=4/3 * π * r 3\n",
        "\n"
      ]
    },
    {
      "cell_type": "code",
      "metadata": {
        "id": "ErjQJmpemHFP",
        "colab_type": "code",
        "outputId": "d40f872d-9c26-482d-9d83-0ec18d49f3d4",
        "colab": {
          "base_uri": "https://localhost:8080/",
          "height": 34
        }
      },
      "source": [
        "import math\n",
        "diameter=12\n",
        "r=diameter/2\n",
        "V=4/3*math.pi*r**3\n",
        "print(V)"
      ],
      "execution_count": 0,
      "outputs": [
        {
          "output_type": "stream",
          "text": [
            "904.7786842338603\n"
          ],
          "name": "stdout"
        }
      ]
    },
    {
      "cell_type": "markdown",
      "metadata": {
        "id": "E-AI7KOeoE-A",
        "colab_type": "text"
      },
      "source": [
        "### Task 2: Problem 1. Write a program \n",
        "* which accepts a sequence of comma-separated numbers from console \n",
        "* and generate a list using those numbers.\n",
        "\n"
      ]
    },
    {
      "cell_type": "code",
      "metadata": {
        "id": "noCO31_1oWS3",
        "colab_type": "code",
        "outputId": "f12a173c-21ee-4b04-83f3-16f80094f992",
        "colab": {
          "base_uri": "https://localhost:8080/",
          "height": 85
        }
      },
      "source": [
        "# Accept comma separated numbers as string \n",
        "input_num_as_str = input (\"Enter comma separated integers: \")\n",
        "print (\"Input list: \", input_num_as_str)\n",
        "\n",
        "\n",
        "\n",
        "listy = input_num_as_str.split (\",\")# splits a long string using the ',' seprator and stores as list element\n",
        "print (\"list: \", listy)\n",
        "\n",
        "# convert each string as integer and append in a list\n",
        "int_list = []\n",
        "for i in listy:\n",
        "\n",
        "\tint_list.append(int(i))\n",
        "\n",
        "# print integer list \n",
        "print (\"Number list : \", int_list)\n"
      ],
      "execution_count": 0,
      "outputs": [
        {
          "output_type": "stream",
          "text": [
            "Enter comma separated integers: 12,5,7\n",
            "Input list:  12,5,7\n",
            "list:  ['12', '5', '7']\n",
            "Number list :  [12, 5, 7]\n"
          ],
          "name": "stdout"
        }
      ]
    },
    {
      "cell_type": "markdown",
      "metadata": {
        "id": "1kh-Ns9MoYPK",
        "colab_type": "text"
      },
      "source": [
        "### Task 2: Problem 2. Create the below pattern using nested for loop in Python.\n",
        "# *\n",
        "# * *\n",
        "# * * *\n",
        "# * * * *\n",
        "# * * * * *\n",
        "# * * * *\n",
        "# * * *\n",
        "# * *\n",
        "# *"
      ]
    },
    {
      "cell_type": "code",
      "metadata": {
        "id": "dvAYb3oGo4GA",
        "colab_type": "code",
        "outputId": "ea780639-60bb-4280-8b62-246bdd4188a2",
        "colab": {
          "base_uri": "https://localhost:8080/",
          "height": 323
        }
      },
      "source": [
        "d=0\n",
        "\n",
        "for i in range(1,10):\n",
        "  \n",
        "  if i<=5:\n",
        "    for j in range(i):\n",
        "      print('*',end=\" \")\n",
        "\n",
        "    print(\"\\n\")\n",
        "\n",
        "  if i>5:\n",
        "    d=d+1\n",
        "    lenn=d*2\n",
        "    for j in range(i-lenn):\n",
        "      print('*',end=\" \")\n",
        "\n",
        "    print(\"\\n\")\n",
        "  \n",
        "  \n",
        "\n",
        "  \n"
      ],
      "execution_count": 0,
      "outputs": [
        {
          "output_type": "stream",
          "text": [
            "* \n",
            "\n",
            "* * \n",
            "\n",
            "* * * \n",
            "\n",
            "* * * * \n",
            "\n",
            "* * * * * \n",
            "\n",
            "* * * * \n",
            "\n",
            "* * * \n",
            "\n",
            "* * \n",
            "\n",
            "* \n",
            "\n"
          ],
          "name": "stdout"
        }
      ]
    },
    {
      "cell_type": "markdown",
      "metadata": {
        "id": "25gLb9IdV-td",
        "colab_type": "text"
      },
      "source": [
        "### Task 2 Problem 3. Write a Python program to reverse a word after accepting the input from the user.\n",
        "Sample Output:\n",
        "* Input word: AcadGild\n",
        "* Output: dilGdacA"
      ]
    },
    {
      "cell_type": "code",
      "metadata": {
        "id": "ufyZeZAVlSGf",
        "colab_type": "code",
        "outputId": "5589476d-bd8e-4063-b97b-9426dec3ae99",
        "colab": {
          "base_uri": "https://localhost:8080/",
          "height": 51
        }
      },
      "source": [
        "user_inpt=str(input(\"Enter a word \"))\n",
        "print(user_inpt[::-1])"
      ],
      "execution_count": 0,
      "outputs": [
        {
          "output_type": "stream",
          "text": [
            "Enter a word AcadGild\n",
            "dliGdacA\n"
          ],
          "name": "stdout"
        }
      ]
    },
    {
      "cell_type": "markdown",
      "metadata": {
        "id": "HNJgYNDUWSXt",
        "colab_type": "text"
      },
      "source": [
        "### Task 2 Problem 4. Write a Python Program to print the given string in the format specified in the sample output.\n",
        "WE, THE PEOPLE OF INDIA, having solemnly resolved to constitute India into a\n",
        "SOVEREIGN, SOCIALIST, SECULAR, DEMOCRATIC REPUBLIC and to secure to all\n",
        "its citizens\n",
        "<br>\n",
        "Sample Output:<br>\n",
        "\n",
        "WE, THE PEOPLE OF INDIA,<br>\n",
        "$\\;\\;\\;\\;$ having solemnly resolved to constitute India into a SOVEREIGN, !<br> \n",
        "$\\;\\;\\;\\;\\;\\;\\;\\;$SOCIALIST, SECULAR, DEMOCRATIC REPUBLIC<br>\n",
        "$\\;\\;\\;\\;\\;\\;\\;\\;$and to secure to all its citizens<br>"
      ]
    },
    {
      "cell_type": "code",
      "metadata": {
        "id": "KHPOHSVu03er",
        "colab_type": "code",
        "outputId": "813c6044-84e8-4c9f-d9d6-39ba1a90c4f6",
        "colab": {
          "base_uri": "https://localhost:8080/",
          "height": 85
        }
      },
      "source": [
        "print(\"WE, THE PEOPLE OF INDIA, \\n\\thaving solemnly resolved to constitute India into a SOVEREIGN,!\\n\\t\\tSOCIALIST, SECULAR, DEMOCRATIC REPUBLIC \\n\\t\\tand to secure to all its citizens\")\n",
        "\n"
      ],
      "execution_count": 0,
      "outputs": [
        {
          "output_type": "stream",
          "text": [
            "WE, THE PEOPLE OF INDIA, \n",
            "\thaving solemnly resolved to constitute India into a SOVEREIGN,!\n",
            "\t\tSOCIALIST, SECULAR, DEMOCRATIC REPUBLIC \n",
            "\t\tand to secure to all its citizens\n"
          ],
          "name": "stdout"
        }
      ]
    }
  ]
}