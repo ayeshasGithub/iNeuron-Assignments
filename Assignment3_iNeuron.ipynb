{
  "nbformat": 4,
  "nbformat_minor": 0,
  "metadata": {
    "colab": {
      "name": "Assignment3_iNeuron.ipynb",
      "provenance": [],
      "authorship_tag": "ABX9TyN3ggMWwODhI6/yzNfdjbIl",
      "include_colab_link": true
    },
    "kernelspec": {
      "name": "python3",
      "display_name": "Python 3"
    }
  },
  "cells": [
    {
      "cell_type": "markdown",
      "metadata": {
        "id": "view-in-github",
        "colab_type": "text"
      },
      "source": [
        "<a href=\"https://colab.research.google.com/github/ayeshasGithub/iNeuron-Assignments/blob/master/Assignment3_iNeuron.ipynb\" target=\"_parent\"><img src=\"https://colab.research.google.com/assets/colab-badge.svg\" alt=\"Open In Colab\"/></a>"
      ]
    },
    {
      "cell_type": "markdown",
      "metadata": {
        "id": "B-Kyo02SNRIn",
        "colab_type": "text"
      },
      "source": [
        "1.1<br>\n",
        "<font color='blue'>\n",
        "Write a Python Program to implement your own myreduce() function which works exactly like Python's built-in function reduce()\n",
        "</font>\n"
      ]
    },
    {
      "cell_type": "code",
      "metadata": {
        "id": "yKuxeYF5NNYq",
        "colab_type": "code",
        "colab": {
          "base_uri": "https://localhost:8080/",
          "height": 136
        },
        "outputId": "2f6ae33c-268f-4783-e741-739552c42ce4"
      },
      "source": [
        "#Python's reduce(fun,seq) function is defined in “functools” module\n",
        "import functools\n",
        "import operator \n",
        "  \n",
        "# initializing list \n",
        "listy = [ 1 , 3, 5, 6, 2, ] \n",
        "  \n",
        "# reduce computes sum/multiplication/concatenation of list by operator functions \n",
        "print ('sum ',functools.reduce(operator.add,listy)) \n",
        "print ('product ',functools.reduce(operator.mul,listy)) \n",
        "print ('concatenate ',functools.reduce(operator.add,[\"Ayesha\",\"Siddiqua\",\"Sabrina\"])) \n",
        "\n",
        "\n",
        "def myReduce(operator_name, listy):\n",
        "  if operator_name=='sum':\n",
        "    result=0\n",
        "    for i in listy:\n",
        "      result=result+i\n",
        "  elif operator_name=='mul':\n",
        "    result=1\n",
        "    for i in listy:\n",
        "      result=result*i\n",
        "\n",
        "  else:\n",
        "    result=''\n",
        "    for i in listy:\n",
        "      result=result+i\n",
        "  \n",
        "  return result\n",
        "\n",
        "print(\"myReduce output==>\")\n",
        "print ('sum ',myReduce('sum',listy)) \n",
        "print ('product ',myReduce('mul',listy)) \n",
        "print ('concatenate ',myReduce('concatenate',[\"Ayesha\",\"Siddiqua\",\"Sabrina\"])) \n"
      ],
      "execution_count": 1,
      "outputs": [
        {
          "output_type": "stream",
          "text": [
            "sum  17\n",
            "product  180\n",
            "concatenate  AyeshaSiddiquaSabrina\n",
            "myReduce output==>\n",
            "sum  17\n",
            "product  180\n",
            "concatenate  AyeshaSiddiquaSabrina\n"
          ],
          "name": "stdout"
        }
      ]
    },
    {
      "cell_type": "markdown",
      "metadata": {
        "id": "7f4FkFc4N3Fo",
        "colab_type": "text"
      },
      "source": [
        "1.2.<br>\n",
        "<font color='blue'>\n",
        "Write a Python program to implement your own myfilter() function which works exactly like Python's built-in function filter()\n",
        "</font>\n"
      ]
    },
    {
      "cell_type": "code",
      "metadata": {
        "id": "bRhXMP41OBfq",
        "colab_type": "code",
        "colab": {
          "base_uri": "https://localhost:8080/",
          "height": 34
        },
        "outputId": "f5227258-5c9a-482b-aba9-0797535ff5e8"
      },
      "source": [
        "#Python's filter(fun,lists/tuples/sets) function filters the given element\n",
        "\n",
        "  \n",
        "def myFilter(fun,listy):\n",
        "\n",
        "  filtered_list=[i for i in listy if i!=fun]\n",
        "\n",
        "  return filtered_list\n",
        "  \n",
        "\n",
        "\n",
        "# initializing list \n",
        "listy = [1, 'a', 0, False, True, '0']  \n",
        "fun=[None,0,False]\n",
        "f_list= myFilter(fun, listy)\n",
        "\n",
        "\n",
        "print('The filtered elements are:',f_list) \n",
        "\n"
      ],
      "execution_count": 2,
      "outputs": [
        {
          "output_type": "stream",
          "text": [
            "The filtered elements are: [1, 'a', 0, False, True, '0']\n"
          ],
          "name": "stdout"
        }
      ]
    },
    {
      "cell_type": "markdown",
      "metadata": {
        "id": "iWUOl_TnONJu",
        "colab_type": "text"
      },
      "source": [
        "2.<br>\n",
        "<font color='blue'>\n",
        "Implement List comprehensions to produce the following lists.<br>\n",
        "Write List comprehensions to produce the following Lists<br>\n",
        "</font>\n",
        "['A', 'C', 'A', 'D', 'G', 'I', ’L’, ‘ D’]<br>\n",
        "['x', 'xx', 'xxx', 'xxxx', 'y', 'yy', 'yyy', 'yyyy', 'z', 'zz', 'zzz', 'zzzz']<br>\n",
        "['x', 'y', 'z', 'xx', 'yy', 'zz', 'xx', 'yy', 'zz', 'xxxx', 'yyyy', 'zzzz']<br>\n",
        "[[2], [3], [4], [3], [4], [5], [4], [5], [6]]<br>\n",
        "[[2, 3, 4, 5], [3, 4, 5, 6], [4, 5, 6, 7], [5, 6, 7, 8]]<br>\n",
        "[(1, 1), (2, 1), (3, 1), (1, 2), (2, 2), (3, 2), (1, 3), (2, 3), (3, 3)]<br>\n"
      ]
    },
    {
      "cell_type": "code",
      "metadata": {
        "id": "-FDwypNWOOzW",
        "colab_type": "code",
        "colab": {
          "base_uri": "https://localhost:8080/",
          "height": 119
        },
        "outputId": "0466fe12-8aed-430c-9f7b-0a164c5fe8fd"
      },
      "source": [
        "# print ==> ['A', 'C', 'A', 'D', 'G', 'I', ’L’, ‘ D’]\n",
        "word=\"ACADGILD\"\n",
        "list1=[c for c in word]\n",
        "print(list1)\n",
        "\n",
        "#print ==> ['x', 'xx', 'xxx', 'xxxx', 'y', 'yy', 'yyy', 'yyyy', 'z', 'zz', 'zzz', 'zzzz']\n",
        "input_list=['x','y','z']\n",
        "list2=[c*i for c in input_list for i in range(1,5) ]\n",
        "print(list2)\n",
        "\n",
        "#print ==> ['x', 'y', 'z', 'xx', 'yy', 'zz', 'xx', 'yy', 'zz', 'xxxx', 'yyyy', 'zzzz']\n",
        "list3=[c*i for i in range(1,4) for c in input_list ]\n",
        "print(list3)\n",
        "\n",
        "\n",
        "# print ==> [[2], [3], [4], [3], [4], [5], [4], [5], [6]]\n",
        "list4=[[i+c] for i in range(2,4) for c in range(4) ]\n",
        "print(list4)\n",
        "\n",
        "# print ==> [[2, 3, 4, 5], [3, 4, 5, 6], [4, 5, 6, 7], [5, 6, 7, 8]]\n",
        "list5=[[[i+c] for i in range(2,6)] for c in range(4) ]\n",
        "print(list5)\n",
        "\n",
        "\n",
        "# print ==> [(1, 1), (2, 1), (3, 1), (1, 2), (2, 2), (3, 2), (1, 3), (2, 3), (3, 3)]\n",
        "list6=[(i,c) for i in range(1,4) for c in range(1,4) ]\n",
        "print(list6)\n",
        "\n",
        "\n"
      ],
      "execution_count": 3,
      "outputs": [
        {
          "output_type": "stream",
          "text": [
            "['A', 'C', 'A', 'D', 'G', 'I', 'L', 'D']\n",
            "['x', 'xx', 'xxx', 'xxxx', 'y', 'yy', 'yyy', 'yyyy', 'z', 'zz', 'zzz', 'zzzz']\n",
            "['x', 'y', 'z', 'xx', 'yy', 'zz', 'xxx', 'yyy', 'zzz']\n",
            "[[2], [3], [4], [5], [3], [4], [5], [6]]\n",
            "[[[2], [3], [4], [5]], [[3], [4], [5], [6]], [[4], [5], [6], [7]], [[5], [6], [7], [8]]]\n",
            "[(1, 1), (1, 2), (1, 3), (2, 1), (2, 2), (2, 3), (3, 1), (3, 2), (3, 3)]\n"
          ],
          "name": "stdout"
        }
      ]
    }
  ]
}