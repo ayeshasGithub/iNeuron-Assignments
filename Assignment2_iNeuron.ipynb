{
  "nbformat": 4,
  "nbformat_minor": 0,
  "metadata": {
    "colab": {
      "name": "Assignment2_iNeuron.ipynb",
      "provenance": [],
      "authorship_tag": "ABX9TyMEzL18kkDHPoDKKkLihosc",
      "include_colab_link": true
    },
    "kernelspec": {
      "name": "python3",
      "display_name": "Python 3"
    }
  },
  "cells": [
    {
      "cell_type": "markdown",
      "metadata": {
        "id": "view-in-github",
        "colab_type": "text"
      },
      "source": [
        "<a href=\"https://colab.research.google.com/github/ayeshasGithub/iNeuron-Assignments/blob/master/Assignment2_iNeuron.ipynb\" target=\"_parent\"><img src=\"https://colab.research.google.com/assets/colab-badge.svg\" alt=\"Open In Colab\"/></a>"
      ]
    },
    {
      "cell_type": "markdown",
      "metadata": {
        "id": "uf0XLz1_LEwq",
        "colab_type": "text"
      },
      "source": [
        "1. Create the below pattern using nested for loop in Python.\n",
        "# *\n",
        "# * *\n",
        "# * * *\n",
        "# * * * *\n",
        "# * * * * *\n",
        "# * * * *\n",
        "# * * *\n",
        "# * *\n",
        "# *"
      ]
    },
    {
      "cell_type": "code",
      "metadata": {
        "id": "hjr4eInKKi2T",
        "colab_type": "code",
        "colab": {
          "base_uri": "https://localhost:8080/",
          "height": 323
        },
        "outputId": "4dd012a9-bcf3-4e61-ec3f-f2a4c8454040"
      },
      "source": [
        "d=0\n",
        "\n",
        "for i in range(1,10):\n",
        "  \n",
        "  if i<=5:\n",
        "    for j in range(i):\n",
        "      print('*',end=\" \")\n",
        "\n",
        "    print(\"\\n\")\n",
        "\n",
        "  if i>5:\n",
        "    d=d+1\n",
        "    lenn=d*2\n",
        "    for j in range(i-lenn):\n",
        "      print('*',end=\" \")\n",
        "\n",
        "    print(\"\\n\")\n",
        "  \n",
        "  \n",
        "\n",
        "  \n"
      ],
      "execution_count": 1,
      "outputs": [
        {
          "output_type": "stream",
          "text": [
            "* \n",
            "\n",
            "* * \n",
            "\n",
            "* * * \n",
            "\n",
            "* * * * \n",
            "\n",
            "* * * * * \n",
            "\n",
            "* * * * \n",
            "\n",
            "* * * \n",
            "\n",
            "* * \n",
            "\n",
            "* \n",
            "\n"
          ],
          "name": "stdout"
        }
      ]
    },
    {
      "cell_type": "markdown",
      "metadata": {
        "id": "7QTtKyGdL6GI",
        "colab_type": "text"
      },
      "source": [
        "2. Write a Python program to reverse a word after accepting the input from the user.\n",
        "Sample Output:\n",
        "* Input word: AcadGild\n",
        "* Output: dilGdacA"
      ]
    },
    {
      "cell_type": "code",
      "metadata": {
        "id": "UlkPKbyuMAtW",
        "colab_type": "code",
        "colab": {
          "base_uri": "https://localhost:8080/",
          "height": 51
        },
        "outputId": "4a020fd2-2c16-4aaf-d382-24ed25688a6f"
      },
      "source": [
        "user_inpt=str(input(\"Enter a word \"))\n",
        "print(user_inpt[::-1])"
      ],
      "execution_count": 2,
      "outputs": [
        {
          "output_type": "stream",
          "text": [
            "Enter a word ineuron\n",
            "norueni\n"
          ],
          "name": "stdout"
        }
      ]
    }
  ]
}