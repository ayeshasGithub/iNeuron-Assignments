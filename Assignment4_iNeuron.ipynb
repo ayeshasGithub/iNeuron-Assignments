{
  "nbformat": 4,
  "nbformat_minor": 0,
  "metadata": {
    "colab": {
      "name": "Assignment4_iNeuron.ipynb",
      "provenance": [],
      "authorship_tag": "ABX9TyMj9CuM37qkNX3A/HHb2E+N",
      "include_colab_link": true
    },
    "kernelspec": {
      "name": "python3",
      "display_name": "Python 3"
    }
  },
  "cells": [
    {
      "cell_type": "markdown",
      "metadata": {
        "id": "view-in-github",
        "colab_type": "text"
      },
      "source": [
        "<a href=\"https://colab.research.google.com/github/ayeshasGithub/iNeuron-Assignments/blob/master/Assignment4_iNeuron.ipynb\" target=\"_parent\"><img src=\"https://colab.research.google.com/assets/colab-badge.svg\" alt=\"Open In Colab\"/></a>"
      ]
    },
    {
      "cell_type": "markdown",
      "metadata": {
        "id": "BOtkmO38Tb_r",
        "colab_type": "text"
      },
      "source": [
        "1.1<br>\n",
        "<font color='blue'>\n",
        "Write a Python Program(with class concepts) to find the area of the triangle >using the below formula.<br>\n",
        "area = (s*(s-a)*(s-b)*(s-c))** 0.5<br>\n",
        "* Function to take the length of the sides of triangle from user should be defined in the parent class <br>\n",
        "* and function to calculate the area should be defined in subclass.<br>\n",
        "</font>\n"
      ]
    },
    {
      "cell_type": "code",
      "metadata": {
        "id": "DOynnfvQTPbm",
        "colab_type": "code",
        "colab": {
          "base_uri": "https://localhost:8080/",
          "height": 34
        },
        "outputId": "1b27f18c-4142-4763-f836-4381385b2ccb"
      },
      "source": [
        "class triangle:\n",
        "\n",
        "  def __init__(self,a,b,c): #function to take sides of triangle is in parent class triangle\n",
        "    self.a=a\n",
        "    self.b=b\n",
        "    self.c=c\n",
        "\n",
        "class area_tri(triangle):\n",
        "  \n",
        "  def cal_area(self): #function to calculate area is in subclass area_tri\n",
        "    \n",
        "    \n",
        "    s = (self.a + self.b + self.c) / 2\n",
        "    area = (s*(s-self.a)*(s-self.b)*(s-self.c)) ** 0.5\n",
        "    print(\"area of the trinagle \",area)\n",
        "\n",
        "#create an instance of area_tri\n",
        "t=area_tri(3,6,5) #automaticly triangle class would be called and a,b,c will be assigned to self, We do not need any super() to execute\n",
        "t.cal_area()\n",
        "\n"
      ],
      "execution_count": 1,
      "outputs": [
        {
          "output_type": "stream",
          "text": [
            "area of the trinagle  7.483314773547883\n"
          ],
          "name": "stdout"
        }
      ]
    },
    {
      "cell_type": "markdown",
      "metadata": {
        "id": "rLGkJeECTqbj",
        "colab_type": "text"
      },
      "source": [
        "1.2<br>\n",
        "<font color=\"blue\">\n",
        "Write a function filter_long_words() that <br>\n",
        "* takes a list of words and an integer n <br>\n",
        "* and returns the list of words that are longer than n.<br>\n",
        "</font>"
      ]
    },
    {
      "cell_type": "code",
      "metadata": {
        "id": "3FIqtD1ATz34",
        "colab_type": "code",
        "colab": {
          "base_uri": "https://localhost:8080/",
          "height": 34
        },
        "outputId": "f5373de6-c2a3-490a-c637-a342b21d579a"
      },
      "source": [
        "def filter_long_words(listy,n):\n",
        "  \n",
        "  long_list=[]\n",
        "  for word in listy:\n",
        "    if len(word)>n:\n",
        "      long_list.append(word)\n",
        "  #print(long_list)\n",
        "\n",
        "  return long_list\n",
        "\n",
        "\n",
        "listy=['ayesha','pin','tin', 'siddiqua']\n",
        "n=3\n",
        "listI=filter_long_words(listy,n)\n",
        "print(listI)\n"
      ],
      "execution_count": 2,
      "outputs": [
        {
          "output_type": "stream",
          "text": [
            "['ayesha', 'siddiqua']\n"
          ],
          "name": "stdout"
        }
      ]
    },
    {
      "cell_type": "markdown",
      "metadata": {
        "id": "vVoqVwXnT844",
        "colab_type": "text"
      },
      "source": [
        "2.1<br>\n",
        "<font color=\"blue\">\n",
        "Write a Python program using function concept <br>\n",
        "* that maps list of words into a list of integers<br>\n",
        "* representing the lengths of the corresponding words .<br>\n",
        "Hint: If a list [ ab,cde,erty] is passed on to the python function <br>\n",
        "output should come as [2,3,4]<br>\n",
        "Here 2,3 and 4 are the lengths of the words in the list.<br>\n",
        "</font>"
      ]
    },
    {
      "cell_type": "code",
      "metadata": {
        "id": "XyV3YSWyUEBX",
        "colab_type": "code",
        "colab": {
          "base_uri": "https://localhost:8080/",
          "height": 34
        },
        "outputId": "1c1af4af-d11d-4888-eea3-70a65cc9e356"
      },
      "source": [
        "word_list=[\"ayaat\",'ayesha','zaima', 'zannatun']\n",
        "int_list=[len(word) for word in word_list]\n",
        "print(int_list)"
      ],
      "execution_count": 3,
      "outputs": [
        {
          "output_type": "stream",
          "text": [
            "[5, 6, 5, 8]\n"
          ],
          "name": "stdout"
        }
      ]
    },
    {
      "cell_type": "markdown",
      "metadata": {
        "id": "PiM9yyUDUKCz",
        "colab_type": "text"
      },
      "source": [
        "2.2<br>\n",
        "<font color=\"blue\">\n",
        "Write a Python function which takes a character (i.e. a string of length 1) and returns True if it is\n",
        "a vowel, False otherwise.\n",
        "</font>\n"
      ]
    },
    {
      "cell_type": "code",
      "metadata": {
        "id": "U_-YMxQrUUDO",
        "colab_type": "code",
        "colab": {
          "base_uri": "https://localhost:8080/",
          "height": 34
        },
        "outputId": "ed5502be-be27-4f1d-bc44-7fd0318d3634"
      },
      "source": [
        "def isVowel(c):\n",
        "\n",
        "  vowels='aeiou'\n",
        "  if c in vowels:\n",
        "    return True\n",
        "  else:\n",
        "    return False\n",
        "\n",
        "print(isVowel('g'))"
      ],
      "execution_count": 4,
      "outputs": [
        {
          "output_type": "stream",
          "text": [
            "False\n"
          ],
          "name": "stdout"
        }
      ]
    }
  ]
}